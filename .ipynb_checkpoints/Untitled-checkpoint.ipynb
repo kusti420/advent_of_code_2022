{
  "metadata": {
    "kernelspec": {
      "display_name": "Python 3 (ipykernel)",
      "name": "python3",
      "language": "python"
    },
    "language_info": {
      "version": "3.11.4",
      "nbconvert_exporter": "python",
      "name": "python",
      "file_extension": ".py",
      "codemirror_mode": {
        "name": "ipython",
        "version": 3
      },
      "mimetype": "text/x-python",
      "pygments_lexer": "ipython3"
    }
  },
  "nbformat_minor": 5,
  "nbformat": 4,
  "cells": [
    {
      "id": "912309c1-85c8-4e24-97d6-7a653313fa86",
      "cell_type": "code",
      "source": "print(\"hello world\")",
      "metadata": {
        "trusted": false
      },
      "outputs": [
        {
          "name": "stdout",
          "output_type": "stream",
          "text": "hello world"
        }
      ],
      "execution_count": 1
    },
    {
      "id": "f918dca3-3da4-4a58-903f-af86f9dd5cf3",
      "cell_type": "code",
      "source": "# WAZZZZZZZZZZZZZZZZZZUUUUUUUUUUUUUUUPPPPPPPPPPPPPPPPPPP",
      "metadata": {
        "trusted": false
      },
      "outputs": [],
      "execution_count": null
    }
  ]
}